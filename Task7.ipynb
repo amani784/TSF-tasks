{
  "nbformat": 4,
  "nbformat_minor": 0,
  "metadata": {
    "colab": {
      "provenance": []
    },
    "kernelspec": {
      "name": "python3",
      "display_name": "Python 3"
    },
    "language_info": {
      "name": "python"
    }
  },
  "cells": [
    {
      "cell_type": "code",
      "execution_count": null,
      "metadata": {
        "id": "BBOi_17TUnWx"
      },
      "outputs": [],
      "source": [
        "import yfinance as yf\n",
        "import pandas as pd\n",
        "import requests\n",
        "from datetime import datetime\n",
        "import re\n",
        "from textblob import TextBlob\n",
        "from sklearn.model_selection import train_test_split\n",
        "from sklearn.preprocessing import StandardScaler\n",
        "from sklearn.linear_model import LinearRegression\n",
        "from sklearn.metrics import mean_squared_error, r2_score"
      ]
    },
    {
      "cell_type": "code",
      "source": [
        "# Step 1: Download Historical Stock Prices\n",
        "ticker = \"^BSESN\"  # Ticker for SENSEX\n",
        "start_date = \"2020-01-01\"\n",
        "end_date = \"2023-01-01\""
      ],
      "metadata": {
        "id": "3sjbklZfaWgN"
      },
      "execution_count": null,
      "outputs": []
    },
    {
      "cell_type": "code",
      "source": [
        "# Downloading the stock data\n",
        "sensex_data = yf.download(ticker, start=start_date, end=end_date)\n",
        "sensex_data = sensex_data.dropna()  # Drop missing values"
      ],
      "metadata": {
        "colab": {
          "base_uri": "https://localhost:8080/"
        },
        "id": "GI2a0ehMaWi9",
        "outputId": "8e017366-9739-462f-c93a-be3b02d8deed"
      },
      "execution_count": null,
      "outputs": [
        {
          "output_type": "stream",
          "name": "stderr",
          "text": [
            "\r[*********************100%%**********************]  1 of 1 completed\n"
          ]
        }
      ]
    },
    {
      "cell_type": "code",
      "source": [
        "import pandas as pd\n",
        "\n",
        "# Initialize an empty DataFrame to hold the data\n",
        "data = pd.DataFrame()\n",
        "\n",
        "# Read the CSV file in chunks with specified quoting options\n",
        "chunksize = 100000  # Adjust the chunk size based on your system's memory capacity\n",
        "\n",
        "try:\n",
        "    for chunk in pd.read_csv('india-news-headlines.csv', chunksize=chunksize, on_bad_lines='skip', quoting=3):\n",
        "        data = pd.concat([data, chunk], ignore_index=True)\n",
        "    print(\"Data loaded successfully.\")\n",
        "except pd.errors.ParserError as e:\n",
        "    print(\"Error parsing CSV file:\", e)\n",
        "\n",
        "# Display the first few rows of the dataset\n",
        "print(data.head())\n"
      ],
      "metadata": {
        "colab": {
          "base_uri": "https://localhost:8080/"
        },
        "id": "a-ojH2IHaWll",
        "outputId": "bf16fa44-c298-49cb-87df-16bb95b977dd"
      },
      "execution_count": null,
      "outputs": [
        {
          "output_type": "stream",
          "name": "stdout",
          "text": [
            "Data loaded successfully.\n",
            "   publish_date headline_category  \\\n",
            "0      20010102           unknown   \n",
            "1      20010102           unknown   \n",
            "2      20010102           unknown   \n",
            "3      20010102           unknown   \n",
            "4      20010102           unknown   \n",
            "\n",
            "                                       headline_text  \n",
            "0  \"Status quo will not be disturbed at Ayodhya; ...  \n",
            "1              \"Fissures in Hurriyat over Pak visit\"  \n",
            "2            \"America's unwanted heading for India?\"  \n",
            "3               \"For bigwigs; it is destination Goa\"  \n",
            "4             \"Extra buses to clear tourist traffic\"  \n"
          ]
        }
      ]
    },
    {
      "cell_type": "code",
      "source": [
        "# Convert the publish_date to datetime\n",
        "data['publish_date'] = pd.to_datetime(data['publish_date'], format='%Y%m%d', errors='coerce')"
      ],
      "metadata": {
        "id": "bb1JnsQDaWod"
      },
      "execution_count": null,
      "outputs": []
    },
    {
      "cell_type": "markdown",
      "source": [
        "**Step 3: Data Preprocessing**"
      ],
      "metadata": {
        "id": "oXaSV50dhLf2"
      }
    },
    {
      "cell_type": "code",
      "source": [
        "# Clean text data\n",
        "def clean_text(text):\n",
        "    text = re.sub(r'\\s+', ' ', text)  # Remove extra spaces\n",
        "    text = re.sub(r'[^\\w\\s]', '', text)  # Remove punctuation\n",
        "    text = text.lower()  # Convert to lowercase\n",
        "    return text"
      ],
      "metadata": {
        "id": "2gH9ARQBaWsA"
      },
      "execution_count": null,
      "outputs": []
    },
    {
      "cell_type": "code",
      "source": [
        "# Convert to string before applying clean_text\n",
        "data['headline_text'] = data['headline_text'].apply(lambda x: clean_text(str(x)))"
      ],
      "metadata": {
        "id": "nOaJRlfvPW4J"
      },
      "execution_count": null,
      "outputs": []
    },
    {
      "cell_type": "code",
      "source": [
        "# Perform Sentiment Analysis\n",
        "def get_sentiment_score(text):\n",
        "    blob = TextBlob(text)\n",
        "    return blob.sentiment.polarity\n",
        "\n",
        "data['sentiment_score'] = data['headline_text'].apply(get_sentiment_score)"
      ],
      "metadata": {
        "id": "zpnaZcq_PW7A"
      },
      "execution_count": null,
      "outputs": []
    },
    {
      "cell_type": "markdown",
      "source": [
        "**Step 4: Feature Engineering**"
      ],
      "metadata": {
        "id": "mn_Gqpo7SIet"
      }
    },
    {
      "cell_type": "code",
      "source": [
        "# Averaging sentiment scores per day\n",
        "daily_sentiment = data.groupby(data['publish_date'].dt.date)['sentiment_score'].mean()\n",
        "daily_sentiment = daily_sentiment.reindex(pd.date_range(start=start_date, end=end_date), fill_value=0)\n",
        "daily_sentiment.index = pd.to_datetime(daily_sentiment.index)"
      ],
      "metadata": {
        "id": "eiSZlfELPW9m"
      },
      "execution_count": null,
      "outputs": []
    },
    {
      "cell_type": "code",
      "source": [
        "# Combine with stock prices\n",
        "sensex_data['Sentiment'] = daily_sentiment"
      ],
      "metadata": {
        "id": "e28dh8ZKPXAD"
      },
      "execution_count": null,
      "outputs": []
    },
    {
      "cell_type": "code",
      "source": [
        "# Ensure we drop any NaN values that might have been introduced\n",
        "sensex_data.dropna(inplace=True)"
      ],
      "metadata": {
        "id": "ieD0U0gPPXDQ"
      },
      "execution_count": null,
      "outputs": []
    },
    {
      "cell_type": "code",
      "source": [
        "# Features and target variable\n",
        "X = sensex_data[['Open', 'High', 'Low', 'Close', 'Volume', 'Sentiment']]\n",
        "y = sensex_data['Close'].shift(-1).dropna()\n",
        "X = X.iloc[:-1]"
      ],
      "metadata": {
        "id": "zUuk3yBRPXGw"
      },
      "execution_count": null,
      "outputs": []
    },
    {
      "cell_type": "code",
      "source": [
        "# Split the data into training and testing sets\n",
        "X_train, X_test, y_train, y_test = train_test_split(X, y, test_size=0.2, random_state=42)"
      ],
      "metadata": {
        "id": "FAg6jazlSYYG"
      },
      "execution_count": null,
      "outputs": []
    },
    {
      "cell_type": "code",
      "source": [
        "# Standardize the features\n",
        "scaler = StandardScaler()\n",
        "X_train_scaled = scaler.fit_transform(X_train)\n",
        "X_test_scaled = scaler.transform(X_test)"
      ],
      "metadata": {
        "id": "FU-fDX-QSYaw"
      },
      "execution_count": null,
      "outputs": []
    },
    {
      "cell_type": "code",
      "source": [
        "# Step 5: Model Development\n",
        "model = LinearRegression()\n",
        "model.fit(X_train_scaled, y_train)"
      ],
      "metadata": {
        "colab": {
          "base_uri": "https://localhost:8080/",
          "height": 74
        },
        "id": "7gwi3BEsSYdT",
        "outputId": "29d1c8e1-92b3-43e1-9a47-ca57e11860d0"
      },
      "execution_count": null,
      "outputs": [
        {
          "output_type": "execute_result",
          "data": {
            "text/plain": [
              "LinearRegression()"
            ],
            "text/html": [
              "<style>#sk-container-id-1 {color: black;background-color: white;}#sk-container-id-1 pre{padding: 0;}#sk-container-id-1 div.sk-toggleable {background-color: white;}#sk-container-id-1 label.sk-toggleable__label {cursor: pointer;display: block;width: 100%;margin-bottom: 0;padding: 0.3em;box-sizing: border-box;text-align: center;}#sk-container-id-1 label.sk-toggleable__label-arrow:before {content: \"▸\";float: left;margin-right: 0.25em;color: #696969;}#sk-container-id-1 label.sk-toggleable__label-arrow:hover:before {color: black;}#sk-container-id-1 div.sk-estimator:hover label.sk-toggleable__label-arrow:before {color: black;}#sk-container-id-1 div.sk-toggleable__content {max-height: 0;max-width: 0;overflow: hidden;text-align: left;background-color: #f0f8ff;}#sk-container-id-1 div.sk-toggleable__content pre {margin: 0.2em;color: black;border-radius: 0.25em;background-color: #f0f8ff;}#sk-container-id-1 input.sk-toggleable__control:checked~div.sk-toggleable__content {max-height: 200px;max-width: 100%;overflow: auto;}#sk-container-id-1 input.sk-toggleable__control:checked~label.sk-toggleable__label-arrow:before {content: \"▾\";}#sk-container-id-1 div.sk-estimator input.sk-toggleable__control:checked~label.sk-toggleable__label {background-color: #d4ebff;}#sk-container-id-1 div.sk-label input.sk-toggleable__control:checked~label.sk-toggleable__label {background-color: #d4ebff;}#sk-container-id-1 input.sk-hidden--visually {border: 0;clip: rect(1px 1px 1px 1px);clip: rect(1px, 1px, 1px, 1px);height: 1px;margin: -1px;overflow: hidden;padding: 0;position: absolute;width: 1px;}#sk-container-id-1 div.sk-estimator {font-family: monospace;background-color: #f0f8ff;border: 1px dotted black;border-radius: 0.25em;box-sizing: border-box;margin-bottom: 0.5em;}#sk-container-id-1 div.sk-estimator:hover {background-color: #d4ebff;}#sk-container-id-1 div.sk-parallel-item::after {content: \"\";width: 100%;border-bottom: 1px solid gray;flex-grow: 1;}#sk-container-id-1 div.sk-label:hover label.sk-toggleable__label {background-color: #d4ebff;}#sk-container-id-1 div.sk-serial::before {content: \"\";position: absolute;border-left: 1px solid gray;box-sizing: border-box;top: 0;bottom: 0;left: 50%;z-index: 0;}#sk-container-id-1 div.sk-serial {display: flex;flex-direction: column;align-items: center;background-color: white;padding-right: 0.2em;padding-left: 0.2em;position: relative;}#sk-container-id-1 div.sk-item {position: relative;z-index: 1;}#sk-container-id-1 div.sk-parallel {display: flex;align-items: stretch;justify-content: center;background-color: white;position: relative;}#sk-container-id-1 div.sk-item::before, #sk-container-id-1 div.sk-parallel-item::before {content: \"\";position: absolute;border-left: 1px solid gray;box-sizing: border-box;top: 0;bottom: 0;left: 50%;z-index: -1;}#sk-container-id-1 div.sk-parallel-item {display: flex;flex-direction: column;z-index: 1;position: relative;background-color: white;}#sk-container-id-1 div.sk-parallel-item:first-child::after {align-self: flex-end;width: 50%;}#sk-container-id-1 div.sk-parallel-item:last-child::after {align-self: flex-start;width: 50%;}#sk-container-id-1 div.sk-parallel-item:only-child::after {width: 0;}#sk-container-id-1 div.sk-dashed-wrapped {border: 1px dashed gray;margin: 0 0.4em 0.5em 0.4em;box-sizing: border-box;padding-bottom: 0.4em;background-color: white;}#sk-container-id-1 div.sk-label label {font-family: monospace;font-weight: bold;display: inline-block;line-height: 1.2em;}#sk-container-id-1 div.sk-label-container {text-align: center;}#sk-container-id-1 div.sk-container {/* jupyter's `normalize.less` sets `[hidden] { display: none; }` but bootstrap.min.css set `[hidden] { display: none !important; }` so we also need the `!important` here to be able to override the default hidden behavior on the sphinx rendered scikit-learn.org. See: https://github.com/scikit-learn/scikit-learn/issues/21755 */display: inline-block !important;position: relative;}#sk-container-id-1 div.sk-text-repr-fallback {display: none;}</style><div id=\"sk-container-id-1\" class=\"sk-top-container\"><div class=\"sk-text-repr-fallback\"><pre>LinearRegression()</pre><b>In a Jupyter environment, please rerun this cell to show the HTML representation or trust the notebook. <br />On GitHub, the HTML representation is unable to render, please try loading this page with nbviewer.org.</b></div><div class=\"sk-container\" hidden><div class=\"sk-item\"><div class=\"sk-estimator sk-toggleable\"><input class=\"sk-toggleable__control sk-hidden--visually\" id=\"sk-estimator-id-1\" type=\"checkbox\" checked><label for=\"sk-estimator-id-1\" class=\"sk-toggleable__label sk-toggleable__label-arrow\">LinearRegression</label><div class=\"sk-toggleable__content\"><pre>LinearRegression()</pre></div></div></div></div></div>"
            ]
          },
          "metadata": {},
          "execution_count": 26
        }
      ]
    },
    {
      "cell_type": "code",
      "source": [
        "# Step 6: Prediction\n",
        "y_pred = model.predict(X_test_scaled)"
      ],
      "metadata": {
        "id": "o1bTxdaZSYf7"
      },
      "execution_count": null,
      "outputs": []
    },
    {
      "cell_type": "code",
      "source": [
        "# Step 7: Model Evaluation\n",
        "mse = mean_squared_error(y_test, y_pred)\n",
        "r2 = r2_score(y_test, y_pred)\n",
        "\n",
        "print(f'Mean Squared Error: {mse}')\n",
        "print(f'R^2 Score: {r2}')"
      ],
      "metadata": {
        "colab": {
          "base_uri": "https://localhost:8080/"
        },
        "id": "68y4Bq4MSYjh",
        "outputId": "c53c3747-de58-4a96-95f1-4ea9aa0e2c61"
      },
      "execution_count": null,
      "outputs": [
        {
          "output_type": "stream",
          "name": "stdout",
          "text": [
            "Mean Squared Error: 573243.4050014545\n",
            "R^2 Score: 0.9942249884606744\n"
          ]
        }
      ]
    },
    {
      "cell_type": "code",
      "source": [
        "# Optional: Display the first few predictions\n",
        "predictions_df = pd.DataFrame({'Actual': y_test, 'Predicted': y_pred})\n",
        "print(predictions_df.head())"
      ],
      "metadata": {
        "colab": {
          "base_uri": "https://localhost:8080/"
        },
        "id": "0FY6HOXRSql_",
        "outputId": "724f4c70-ad69-446f-c15d-bcade2626327"
      },
      "execution_count": null,
      "outputs": [
        {
          "output_type": "stream",
          "name": "stdout",
          "text": [
            "                  Actual     Predicted\n",
            "Date                                  \n",
            "2022-06-17  51597.839844  51403.130100\n",
            "2022-03-07  53424.089844  52859.536564\n",
            "2022-10-19  59202.898438  59101.252554\n",
            "2021-06-03  52100.050781  52248.737050\n",
            "2020-09-14  39044.351562  38756.116237\n"
          ]
        }
      ]
    }
  ]
}